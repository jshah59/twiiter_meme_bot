{
 "cells": [
  {
   "cell_type": "code",
   "execution_count": 1,
   "metadata": {
    "collapsed": true
   },
   "outputs": [],
   "source": [
    "# THIS IS ALL SETUP STUFF\n",
    "\n",
    "# Import ecessary libraries\n",
    "import tweepy\n",
    "import requests\n",
    "import json\n",
    "import os\n",
    "import praw\n",
    "import time\n",
    "\n",
    "# Get authentication data from local JSON file (keep secret for presenting)\n",
    "with open('keys.json') as f:\n",
    "    api_keys = json.loads(f.read())\n",
    "access_token = api_keys['access_token']\n",
    "access_token_secret = api_keys['access_token_secret']\n",
    "consumer_key = api_keys['consumer_key']\n",
    "consumer_key_secret = api_keys['consumer_key_secret']\n",
    "\n",
    "# Initialize Twitter API with appropriate auth keys/tokens\n",
    "auth = tweepy.OAuthHandler(consumer_key, consumer_key_secret)\n",
    "auth.set_access_token(access_token, access_token_secret)\n",
    "api = tweepy.API(auth)"
   ]
  },
  {
   "cell_type": "code",
   "execution_count": 2,
   "metadata": {
    "collapsed": true
   },
   "outputs": [],
   "source": [
    "def get_image_url_and_name():\n",
    "    \"\"\"\n",
    "    Using PRAW, this function will access all posts from /r/memes and return a list of \n",
    "    the title, url, and author of the latest \"hot\" thread with a direct image url \n",
    "    (i.e. 'redd.it/...')\n",
    "    \"\"\"\n",
    "    with open('reddit_api_keys.json') as f:\n",
    "        reddit_api_keys = json.loads(f.read())\n",
    "    reddit = praw.Reddit(client_id=reddit_api_keys['client_id'],\n",
    "                        client_secret=reddit_api_keys['client_secret'],\n",
    "                        password = reddit_api_keys['password'],\n",
    "                        user_agent = 'Gary and Jayam\\'s twitter bot project @ UIUC',\n",
    "                        username=reddit_api_keys['username'])\n",
    "    memes = reddit.subreddit('memes')\n",
    "    for submission in memes.hot():\n",
    "        if 'redd' in submission.url:\n",
    "            return([submission.title, submission.url, submission.author])"
   ]
  },
  {
   "cell_type": "code",
   "execution_count": 3,
   "metadata": {
    "collapsed": true
   },
   "outputs": [],
   "source": [
    "# Given a direct image URL (www.i.<some_image_host>.com) downloads photo\n",
    "def download_image(img_url):\n",
    "    request = requests.get(img_url, stream=True)\n",
    "    if request.status_code == 200:    # Status code 200 = download successful\n",
    "        filename = 'temp.jpg'         # Use temp.jpg to save image, overrides each time this function is called\n",
    "        with open(filename, 'wb') as image:\n",
    "            for chunk in request:\n",
    "                image.write(chunk)\n",
    "        return filename\n",
    "    else:                            # Error handling in case something messes up\n",
    "        print(\"Download error. Status code: %d\" % request.status_code)\n",
    "        return None"
   ]
  },
  {
   "cell_type": "code",
   "execution_count": 4,
   "metadata": {
    "collapsed": true
   },
   "outputs": [],
   "source": [
    "# Given the image URL, downloads image and posts to twitter\n",
    "def post_to_twitter(img_url, caption):\n",
    "    img_file = download_image(img_url)\n",
    "    if(img_file is not None):\n",
    "        api.update_with_media(img_file, status=caption)\n",
    "    else:\n",
    "        print(\"Something went wrong, could not post to Twitter.\")"
   ]
  },
  {
   "cell_type": "code",
   "execution_count": null,
   "metadata": {
    "collapsed": true
   },
   "outputs": [],
   "source": [
    "while True:\n",
    "    reddit_info = get_image_url_and_name()\n",
    "    post url = reddit_info[1]\n",
    "    message = reddit_info[0] + \" - posted by /u/\" + str(reddit_info[2])\n",
    "    post_to_twitter(reddit_info[1], reddit_info[0])\n",
    "    time.sleep(3 * 3600) # Take a 3 hour nap then do it again"
   ]
  }
 ],
 "metadata": {
  "kernelspec": {
   "display_name": "Python 3",
   "language": "python",
   "name": "python3"
  },
  "language_info": {
   "codemirror_mode": {
    "name": "ipython",
    "version": 3
   },
   "file_extension": ".py",
   "mimetype": "text/x-python",
   "name": "python",
   "nbconvert_exporter": "python",
   "pygments_lexer": "ipython3",
   "version": "3.6.1"
  }
 },
 "nbformat": 4,
 "nbformat_minor": 2
}
