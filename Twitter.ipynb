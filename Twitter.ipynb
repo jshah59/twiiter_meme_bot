{
 "cells": [
  {
   "cell_type": "code",
   "execution_count": 2,
   "metadata": {
    "collapsed": true
   },
   "outputs": [],
   "source": [
    "import tweepy\n",
    "import requests\n",
    "import json\n",
    "import os"
   ]
  },
  {
   "cell_type": "code",
   "execution_count": 8,
   "metadata": {},
   "outputs": [],
   "source": [
    "with open('keys.json') as f:\n",
    "    api_keys = json.loads(f.read())\n",
    "access_token = api_keys['access_token']\n",
    "access_token_secret = api_keys['access_token_secret']\n",
    "consumer_key = api_keys['consumer_key']\n",
    "consumer_key_secret = api_keys['consumer_key_secret']\n",
    "\n",
    "auth = tweepy.OAuthHandler(consumer_key, consumer_key_secret)\n",
    "auth.set_access_token(access_token, access_token_secret)\n",
    "api = tweepy.API(auth)"
   ]
  },
  {
   "cell_type": "code",
   "execution_count": 9,
   "metadata": {
    "collapsed": true
   },
   "outputs": [],
   "source": [
    "filename = 'temp.jpg'\n",
    "url = 'https://i.imgur.com/HL6Murg.jpg'\n",
    "request = requests.get(url, stream=True)\n",
    "if request.status_code == 200:\n",
    "    with open(filename, 'wb') as image:\n",
    "        for chunk in request:\n",
    "            image.write(chunk)"
   ]
  },
  {
   "cell_type": "code",
   "execution_count": 10,
   "metadata": {},
   "outputs": [
    {
     "data": {
      "text/plain": [
       "Status(_api=<tweepy.api.API object at 0x000002433409B780>, _json={'created_at': 'Wed Dec 06 16:48:09 +0000 2017', 'id': 938449995744858112, 'id_str': '938449995744858112', 'text': 'Cute doggo! https://t.co/5WQB8NHQGa', 'truncated': False, 'entities': {'hashtags': [], 'symbols': [], 'user_mentions': [], 'urls': [], 'media': [{'id': 938449991592501248, 'id_str': '938449991592501248', 'indices': [12, 35], 'media_url': 'http://pbs.twimg.com/media/DQYLS5RW4AAL6Im.jpg', 'media_url_https': 'https://pbs.twimg.com/media/DQYLS5RW4AAL6Im.jpg', 'url': 'https://t.co/5WQB8NHQGa', 'display_url': 'pic.twitter.com/5WQB8NHQGa', 'expanded_url': 'https://twitter.com/IL_Meme_Bot/status/938449995744858112/photo/1', 'type': 'photo', 'sizes': {'thumb': {'w': 150, 'h': 150, 'resize': 'crop'}, 'small': {'w': 556, 'h': 680, 'resize': 'fit'}, 'medium': {'w': 750, 'h': 917, 'resize': 'fit'}, 'large': {'w': 750, 'h': 917, 'resize': 'fit'}}}]}, 'extended_entities': {'media': [{'id': 938449991592501248, 'id_str': '938449991592501248', 'indices': [12, 35], 'media_url': 'http://pbs.twimg.com/media/DQYLS5RW4AAL6Im.jpg', 'media_url_https': 'https://pbs.twimg.com/media/DQYLS5RW4AAL6Im.jpg', 'url': 'https://t.co/5WQB8NHQGa', 'display_url': 'pic.twitter.com/5WQB8NHQGa', 'expanded_url': 'https://twitter.com/IL_Meme_Bot/status/938449995744858112/photo/1', 'type': 'photo', 'sizes': {'thumb': {'w': 150, 'h': 150, 'resize': 'crop'}, 'small': {'w': 556, 'h': 680, 'resize': 'fit'}, 'medium': {'w': 750, 'h': 917, 'resize': 'fit'}, 'large': {'w': 750, 'h': 917, 'resize': 'fit'}}}]}, 'source': '<a href=\"https://dev.twitter.com/apps/new\" rel=\"nofollow\">Illinois_Meme_Bot</a>', 'in_reply_to_status_id': None, 'in_reply_to_status_id_str': None, 'in_reply_to_user_id': None, 'in_reply_to_user_id_str': None, 'in_reply_to_screen_name': None, 'user': {'id': 938444034237976576, 'id_str': '938444034237976576', 'name': 'Meme_Bot', 'screen_name': 'IL_Meme_Bot', 'location': '', 'description': '', 'url': None, 'entities': {'description': {'urls': []}}, 'protected': False, 'followers_count': 0, 'friends_count': 0, 'listed_count': 0, 'created_at': 'Wed Dec 06 16:24:28 +0000 2017', 'favourites_count': 0, 'utc_offset': None, 'time_zone': None, 'geo_enabled': False, 'verified': False, 'statuses_count': 1, 'lang': 'en', 'contributors_enabled': False, 'is_translator': False, 'is_translation_enabled': False, 'profile_background_color': 'F5F8FA', 'profile_background_image_url': None, 'profile_background_image_url_https': None, 'profile_background_tile': False, 'profile_image_url': 'http://abs.twimg.com/sticky/default_profile_images/default_profile_normal.png', 'profile_image_url_https': 'https://abs.twimg.com/sticky/default_profile_images/default_profile_normal.png', 'profile_link_color': '1DA1F2', 'profile_sidebar_border_color': 'C0DEED', 'profile_sidebar_fill_color': 'DDEEF6', 'profile_text_color': '333333', 'profile_use_background_image': True, 'has_extended_profile': False, 'default_profile': True, 'default_profile_image': True, 'following': False, 'follow_request_sent': False, 'notifications': False, 'translator_type': 'none'}, 'geo': None, 'coordinates': None, 'place': None, 'contributors': None, 'is_quote_status': False, 'retweet_count': 0, 'favorite_count': 0, 'favorited': False, 'retweeted': False, 'possibly_sensitive': False, 'lang': 'en'}, created_at=datetime.datetime(2017, 12, 6, 16, 48, 9), id=938449995744858112, id_str='938449995744858112', text='Cute doggo! https://t.co/5WQB8NHQGa', truncated=False, entities={'hashtags': [], 'symbols': [], 'user_mentions': [], 'urls': [], 'media': [{'id': 938449991592501248, 'id_str': '938449991592501248', 'indices': [12, 35], 'media_url': 'http://pbs.twimg.com/media/DQYLS5RW4AAL6Im.jpg', 'media_url_https': 'https://pbs.twimg.com/media/DQYLS5RW4AAL6Im.jpg', 'url': 'https://t.co/5WQB8NHQGa', 'display_url': 'pic.twitter.com/5WQB8NHQGa', 'expanded_url': 'https://twitter.com/IL_Meme_Bot/status/938449995744858112/photo/1', 'type': 'photo', 'sizes': {'thumb': {'w': 150, 'h': 150, 'resize': 'crop'}, 'small': {'w': 556, 'h': 680, 'resize': 'fit'}, 'medium': {'w': 750, 'h': 917, 'resize': 'fit'}, 'large': {'w': 750, 'h': 917, 'resize': 'fit'}}}]}, extended_entities={'media': [{'id': 938449991592501248, 'id_str': '938449991592501248', 'indices': [12, 35], 'media_url': 'http://pbs.twimg.com/media/DQYLS5RW4AAL6Im.jpg', 'media_url_https': 'https://pbs.twimg.com/media/DQYLS5RW4AAL6Im.jpg', 'url': 'https://t.co/5WQB8NHQGa', 'display_url': 'pic.twitter.com/5WQB8NHQGa', 'expanded_url': 'https://twitter.com/IL_Meme_Bot/status/938449995744858112/photo/1', 'type': 'photo', 'sizes': {'thumb': {'w': 150, 'h': 150, 'resize': 'crop'}, 'small': {'w': 556, 'h': 680, 'resize': 'fit'}, 'medium': {'w': 750, 'h': 917, 'resize': 'fit'}, 'large': {'w': 750, 'h': 917, 'resize': 'fit'}}}]}, source='Illinois_Meme_Bot', source_url='https://dev.twitter.com/apps/new', in_reply_to_status_id=None, in_reply_to_status_id_str=None, in_reply_to_user_id=None, in_reply_to_user_id_str=None, in_reply_to_screen_name=None, author=User(_api=<tweepy.api.API object at 0x000002433409B780>, _json={'id': 938444034237976576, 'id_str': '938444034237976576', 'name': 'Meme_Bot', 'screen_name': 'IL_Meme_Bot', 'location': '', 'description': '', 'url': None, 'entities': {'description': {'urls': []}}, 'protected': False, 'followers_count': 0, 'friends_count': 0, 'listed_count': 0, 'created_at': 'Wed Dec 06 16:24:28 +0000 2017', 'favourites_count': 0, 'utc_offset': None, 'time_zone': None, 'geo_enabled': False, 'verified': False, 'statuses_count': 1, 'lang': 'en', 'contributors_enabled': False, 'is_translator': False, 'is_translation_enabled': False, 'profile_background_color': 'F5F8FA', 'profile_background_image_url': None, 'profile_background_image_url_https': None, 'profile_background_tile': False, 'profile_image_url': 'http://abs.twimg.com/sticky/default_profile_images/default_profile_normal.png', 'profile_image_url_https': 'https://abs.twimg.com/sticky/default_profile_images/default_profile_normal.png', 'profile_link_color': '1DA1F2', 'profile_sidebar_border_color': 'C0DEED', 'profile_sidebar_fill_color': 'DDEEF6', 'profile_text_color': '333333', 'profile_use_background_image': True, 'has_extended_profile': False, 'default_profile': True, 'default_profile_image': True, 'following': False, 'follow_request_sent': False, 'notifications': False, 'translator_type': 'none'}, id=938444034237976576, id_str='938444034237976576', name='Meme_Bot', screen_name='IL_Meme_Bot', location='', description='', url=None, entities={'description': {'urls': []}}, protected=False, followers_count=0, friends_count=0, listed_count=0, created_at=datetime.datetime(2017, 12, 6, 16, 24, 28), favourites_count=0, utc_offset=None, time_zone=None, geo_enabled=False, verified=False, statuses_count=1, lang='en', contributors_enabled=False, is_translator=False, is_translation_enabled=False, profile_background_color='F5F8FA', profile_background_image_url=None, profile_background_image_url_https=None, profile_background_tile=False, profile_image_url='http://abs.twimg.com/sticky/default_profile_images/default_profile_normal.png', profile_image_url_https='https://abs.twimg.com/sticky/default_profile_images/default_profile_normal.png', profile_link_color='1DA1F2', profile_sidebar_border_color='C0DEED', profile_sidebar_fill_color='DDEEF6', profile_text_color='333333', profile_use_background_image=True, has_extended_profile=False, default_profile=True, default_profile_image=True, following=False, follow_request_sent=False, notifications=False, translator_type='none'), user=User(_api=<tweepy.api.API object at 0x000002433409B780>, _json={'id': 938444034237976576, 'id_str': '938444034237976576', 'name': 'Meme_Bot', 'screen_name': 'IL_Meme_Bot', 'location': '', 'description': '', 'url': None, 'entities': {'description': {'urls': []}}, 'protected': False, 'followers_count': 0, 'friends_count': 0, 'listed_count': 0, 'created_at': 'Wed Dec 06 16:24:28 +0000 2017', 'favourites_count': 0, 'utc_offset': None, 'time_zone': None, 'geo_enabled': False, 'verified': False, 'statuses_count': 1, 'lang': 'en', 'contributors_enabled': False, 'is_translator': False, 'is_translation_enabled': False, 'profile_background_color': 'F5F8FA', 'profile_background_image_url': None, 'profile_background_image_url_https': None, 'profile_background_tile': False, 'profile_image_url': 'http://abs.twimg.com/sticky/default_profile_images/default_profile_normal.png', 'profile_image_url_https': 'https://abs.twimg.com/sticky/default_profile_images/default_profile_normal.png', 'profile_link_color': '1DA1F2', 'profile_sidebar_border_color': 'C0DEED', 'profile_sidebar_fill_color': 'DDEEF6', 'profile_text_color': '333333', 'profile_use_background_image': True, 'has_extended_profile': False, 'default_profile': True, 'default_profile_image': True, 'following': False, 'follow_request_sent': False, 'notifications': False, 'translator_type': 'none'}, id=938444034237976576, id_str='938444034237976576', name='Meme_Bot', screen_name='IL_Meme_Bot', location='', description='', url=None, entities={'description': {'urls': []}}, protected=False, followers_count=0, friends_count=0, listed_count=0, created_at=datetime.datetime(2017, 12, 6, 16, 24, 28), favourites_count=0, utc_offset=None, time_zone=None, geo_enabled=False, verified=False, statuses_count=1, lang='en', contributors_enabled=False, is_translator=False, is_translation_enabled=False, profile_background_color='F5F8FA', profile_background_image_url=None, profile_background_image_url_https=None, profile_background_tile=False, profile_image_url='http://abs.twimg.com/sticky/default_profile_images/default_profile_normal.png', profile_image_url_https='https://abs.twimg.com/sticky/default_profile_images/default_profile_normal.png', profile_link_color='1DA1F2', profile_sidebar_border_color='C0DEED', profile_sidebar_fill_color='DDEEF6', profile_text_color='333333', profile_use_background_image=True, has_extended_profile=False, default_profile=True, default_profile_image=True, following=False, follow_request_sent=False, notifications=False, translator_type='none'), geo=None, coordinates=None, place=None, contributors=None, is_quote_status=False, retweet_count=0, favorite_count=0, favorited=False, retweeted=False, possibly_sensitive=False, lang='en')"
      ]
     },
     "execution_count": 10,
     "metadata": {},
     "output_type": "execute_result"
    }
   ],
   "source": [
    "message = \"Cute doggo!\"\n",
    "api.update_with_media(filename, status=message)"
   ]
  },
  {
   "cell_type": "code",
   "execution_count": null,
   "metadata": {
    "collapsed": true
   },
   "outputs": [],
   "source": []
  }
 ],
 "metadata": {
  "kernelspec": {
   "display_name": "Python 3",
   "language": "python",
   "name": "python3"
  },
  "language_info": {
   "codemirror_mode": {
    "name": "ipython",
    "version": 3
   },
   "file_extension": ".py",
   "mimetype": "text/x-python",
   "name": "python",
   "nbconvert_exporter": "python",
   "pygments_lexer": "ipython3",
   "version": "3.6.1"
  }
 },
 "nbformat": 4,
 "nbformat_minor": 2
}
