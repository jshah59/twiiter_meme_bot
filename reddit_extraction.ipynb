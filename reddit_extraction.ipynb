{
 "cells": [
  {
   "cell_type": "code",
   "execution_count": 1,
   "metadata": {
    "collapsed": true
   },
   "outputs": [],
   "source": [
    "import praw\n",
    "import json\n",
    "\n",
    "def get_image_url_and_name():\n",
    "    \"\"\"\n",
    "    Using PRAW, this function will access all posts from /r/memes and return a list of \n",
    "    the title, url, and author of the latest \"hot\" thread with a direct image url \n",
    "    (i.e. 'redd.it/...')\n",
    "    \"\"\"\n",
    "    with open('reddit_api_keys.json') as f:\n",
    "        reddit_api_keys = json.loads(f.read())\n",
    "    reddit = praw.Reddit(client_id=reddit_api_keys['client_id'],\n",
    "                        client_secret=reddit_api_keys['client_secret'],\n",
    "                        password = reddit_api_keys['password'],\n",
    "                        user_agent = 'Gary and Jayam\\'s twitter bot project @ UIUC',\n",
    "                        username=reddit_api_keys['username'])\n",
    "    memes = reddit.subreddit('memes')\n",
    "    for submission in memes.hot():\n",
    "        if 'redd' in submission.url:\n",
    "            return([submission.title, submission.url, submission.author])"
   ]
  },
  {
   "cell_type": "code",
   "execution_count": 2,
   "metadata": {},
   "outputs": [
    {
     "data": {
      "text/plain": [
       "['Thats something',\n",
       " 'https://i.redd.it/dmnbog1gba301.jpg',\n",
       " Redditor(name='ZeonPeonTree')]"
      ]
     },
     "execution_count": 2,
     "metadata": {},
     "output_type": "execute_result"
    }
   ],
   "source": [
    "get_image_url_and_name()"
   ]
  },
  {
   "cell_type": "code",
   "execution_count": null,
   "metadata": {
    "collapsed": true
   },
   "outputs": [],
   "source": []
  }
 ],
 "metadata": {
  "kernelspec": {
   "display_name": "Python 3",
   "language": "python",
   "name": "python3"
  },
  "language_info": {
   "codemirror_mode": {
    "name": "ipython",
    "version": 3
   },
   "file_extension": ".py",
   "mimetype": "text/x-python",
   "name": "python",
   "nbconvert_exporter": "python",
   "pygments_lexer": "ipython3",
   "version": "3.6.1"
  }
 },
 "nbformat": 4,
 "nbformat_minor": 2
}
